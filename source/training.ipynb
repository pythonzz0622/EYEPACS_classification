{
 "cells": [
  {
   "cell_type": "code",
   "execution_count": 1,
   "id": "264b14b5",
   "metadata": {},
   "outputs": [],
   "source": [
    "import argparse\n",
    "import os\n",
    "# os.environ['TF_CPP_MIN_LOG_LEVEL'] = '3' "
   ]
  },
  {
   "cell_type": "code",
   "execution_count": 2,
   "id": "24bde697",
   "metadata": {},
   "outputs": [],
   "source": [
    "import pandas as pd"
   ]
  },
  {
   "cell_type": "code",
   "execution_count": 3,
   "id": "7e4a5894",
   "metadata": {},
   "outputs": [],
   "source": [
    "df = pd.read_csv('../dataset/make_classifier.csv')"
   ]
  },
  {
   "cell_type": "code",
   "execution_count": 4,
   "id": "df76e1f0",
   "metadata": {},
   "outputs": [],
   "source": [
    "os.chdir('../source')"
   ]
  },
  {
   "cell_type": "code",
   "execution_count": null,
   "id": "f49af88e",
   "metadata": {
    "scrolled": true
   },
   "outputs": [
    {
     "name": "stdout",
     "output_type": "stream",
     "text": [
      "________________________________________________________________________________\n"
     ]
    },
    {
     "name": "stderr",
     "output_type": "stream",
     "text": [
      "2022-07-14 15:32:30.577372: I tensorflow/core/platform/cpu_feature_guard.cc:193] This TensorFlow binary is optimized with oneAPI Deep Neural Network Library (oneDNN) to use the following CPU instructions in performance-critical operations:  AVX2 FMA\n",
      "To enable them in other operations, rebuild TensorFlow with the appropriate compiler flags.\n",
      "2022-07-14 15:32:30.954108: I tensorflow/core/common_runtime/gpu/gpu_device.cc:1532] Created device /job:localhost/replica:0/task:0/device:GPU:0 with 22302 MB memory:  -> device: 0, name: GeForce RTX 3090, pci bus id: 0000:01:00.0, compute capability: 8.6\n",
      "2022-07-14 15:32:37.987223: I tensorflow/stream_executor/cuda/cuda_dnn.cc:384] Loaded cuDNN version 8100\n",
      "2022-07-14 15:32:40.263745: I tensorflow/stream_executor/cuda/cuda_blas.cc:1786] TensorFloat-32 will be used for the matrix multiplication. This will only be logged once.\n"
     ]
    },
    {
     "name": "stdout",
     "output_type": "stream",
     "text": [
      "start\n",
      "start\n",
      "epoch: 51 , loss: 0.693 , acc: 73.782 , val_loss: 0.694 , val_acc : 73.851\n",
      "{'A_hidden': 64.0, 'B_dropout': 0.0, 'C_dropout': 0.0, 'D_hidden': 32.0}\n",
      "________________________________________________________________________________\n",
      "________________________________________________________________________________\n"
     ]
    },
    {
     "name": "stderr",
     "output_type": "stream",
     "text": [
      "2022-07-14 15:49:29.307499: I tensorflow/core/platform/cpu_feature_guard.cc:193] This TensorFlow binary is optimized with oneAPI Deep Neural Network Library (oneDNN) to use the following CPU instructions in performance-critical operations:  AVX2 FMA\n",
      "To enable them in other operations, rebuild TensorFlow with the appropriate compiler flags.\n",
      "2022-07-14 15:49:29.712651: I tensorflow/core/common_runtime/gpu/gpu_device.cc:1532] Created device /job:localhost/replica:0/task:0/device:GPU:0 with 22300 MB memory:  -> device: 0, name: GeForce RTX 3090, pci bus id: 0000:01:00.0, compute capability: 8.6\n",
      "2022-07-14 15:49:36.769048: I tensorflow/stream_executor/cuda/cuda_dnn.cc:384] Loaded cuDNN version 8100\n",
      "2022-07-14 15:49:39.077788: I tensorflow/stream_executor/cuda/cuda_blas.cc:1786] TensorFloat-32 will be used for the matrix multiplication. This will only be logged once.\n"
     ]
    },
    {
     "name": "stdout",
     "output_type": "stream",
     "text": [
      "start\n",
      "start\n",
      "epoch: 51 , loss: 0.693 , acc: 26.218 , val_loss: 0.693 , val_acc : 26.149\n",
      "{'A_hidden': 64.0, 'B_dropout': 0.0, 'C_dropout': 0.0, 'D_hidden': 32.0}\n",
      "________________________________________________________________________________\n",
      "________________________________________________________________________________\n"
     ]
    },
    {
     "name": "stderr",
     "output_type": "stream",
     "text": [
      "2022-07-14 16:06:32.521126: I tensorflow/core/platform/cpu_feature_guard.cc:193] This TensorFlow binary is optimized with oneAPI Deep Neural Network Library (oneDNN) to use the following CPU instructions in performance-critical operations:  AVX2 FMA\n",
      "To enable them in other operations, rebuild TensorFlow with the appropriate compiler flags.\n",
      "2022-07-14 16:06:32.880608: I tensorflow/core/common_runtime/gpu/gpu_device.cc:1532] Created device /job:localhost/replica:0/task:0/device:GPU:0 with 22047 MB memory:  -> device: 0, name: GeForce RTX 3090, pci bus id: 0000:01:00.0, compute capability: 8.6\n",
      "Traceback (most recent call last):\n",
      "  File \"/home/user304/users/jiwon/PAI_EYEPACS/source/train.py\", line 57, in <module>\n",
      "    layer = layers.Dropout(v)\n",
      "  File \"/home/user304/anaconda3/lib/python3.9/site-packages/keras/layers/regularization/dropout.py\", line 80, in __init__\n",
      "    raise ValueError(f'Invalid value {rate} received for '\n",
      "ValueError: Invalid value 3.0 received for `rate`, expected a value between 0 and 1.\n"
     ]
    },
    {
     "name": "stdout",
     "output_type": "stream",
     "text": [
      "{'A_hidden': 64.0, 'B_dropout': 0.0, 'C_dropout': 3.0, 'D_hidden': 32.0}\n",
      "________________________________________________________________________________\n",
      "________________________________________________________________________________\n"
     ]
    },
    {
     "name": "stderr",
     "output_type": "stream",
     "text": [
      "2022-07-14 16:06:36.371980: I tensorflow/core/platform/cpu_feature_guard.cc:193] This TensorFlow binary is optimized with oneAPI Deep Neural Network Library (oneDNN) to use the following CPU instructions in performance-critical operations:  AVX2 FMA\n",
      "To enable them in other operations, rebuild TensorFlow with the appropriate compiler flags.\n",
      "2022-07-14 16:06:36.763005: I tensorflow/core/common_runtime/gpu/gpu_device.cc:1532] Created device /job:localhost/replica:0/task:0/device:GPU:0 with 22045 MB memory:  -> device: 0, name: GeForce RTX 3090, pci bus id: 0000:01:00.0, compute capability: 8.6\n",
      "2022-07-14 16:06:43.825834: I tensorflow/stream_executor/cuda/cuda_dnn.cc:384] Loaded cuDNN version 8100\n",
      "2022-07-14 16:06:46.123870: I tensorflow/stream_executor/cuda/cuda_blas.cc:1786] TensorFloat-32 will be used for the matrix multiplication. This will only be logged once.\n"
     ]
    },
    {
     "name": "stdout",
     "output_type": "stream",
     "text": [
      "start\n",
      "start\n",
      "epoch: 51 , loss: 0.693 , acc: 26.218 , val_loss: 0.693 , val_acc : 26.149\n",
      "{'A_hidden': 64.0, 'B_dropout': 0.0, 'C_dropout': 0.5, 'D_hidden': 32.0}\n",
      "________________________________________________________________________________\n",
      "________________________________________________________________________________\n"
     ]
    },
    {
     "name": "stderr",
     "output_type": "stream",
     "text": [
      "2022-07-14 16:23:37.063414: I tensorflow/core/platform/cpu_feature_guard.cc:193] This TensorFlow binary is optimized with oneAPI Deep Neural Network Library (oneDNN) to use the following CPU instructions in performance-critical operations:  AVX2 FMA\n",
      "To enable them in other operations, rebuild TensorFlow with the appropriate compiler flags.\n",
      "2022-07-14 16:23:37.418037: I tensorflow/core/common_runtime/gpu/gpu_device.cc:1532] Created device /job:localhost/replica:0/task:0/device:GPU:0 with 22045 MB memory:  -> device: 0, name: GeForce RTX 3090, pci bus id: 0000:01:00.0, compute capability: 8.6\n",
      "2022-07-14 16:23:44.416097: I tensorflow/stream_executor/cuda/cuda_dnn.cc:384] Loaded cuDNN version 8100\n",
      "2022-07-14 16:23:46.713261: I tensorflow/stream_executor/cuda/cuda_blas.cc:1786] TensorFloat-32 will be used for the matrix multiplication. This will only be logged once.\n"
     ]
    },
    {
     "name": "stdout",
     "output_type": "stream",
     "text": [
      "start\n",
      "start\n",
      "epoch: 51 , loss: 0.693 , acc: 73.782 , val_loss: 0.693 , val_acc : 73.851\n",
      "{'A_hidden': 64.0, 'B_dropout': 0.0, 'C_dropout': 0.0, 'D_hidden': 32.0}\n",
      "________________________________________________________________________________\n",
      "________________________________________________________________________________\n"
     ]
    },
    {
     "name": "stderr",
     "output_type": "stream",
     "text": [
      "2022-07-14 16:40:37.128085: I tensorflow/core/platform/cpu_feature_guard.cc:193] This TensorFlow binary is optimized with oneAPI Deep Neural Network Library (oneDNN) to use the following CPU instructions in performance-critical operations:  AVX2 FMA\n",
      "To enable them in other operations, rebuild TensorFlow with the appropriate compiler flags.\n",
      "2022-07-14 16:40:37.479042: I tensorflow/core/common_runtime/gpu/gpu_device.cc:1532] Created device /job:localhost/replica:0/task:0/device:GPU:0 with 21433 MB memory:  -> device: 0, name: GeForce RTX 3090, pci bus id: 0000:01:00.0, compute capability: 8.6\n",
      "2022-07-14 16:40:44.456061: I tensorflow/stream_executor/cuda/cuda_dnn.cc:384] Loaded cuDNN version 8100\n",
      "2022-07-14 16:40:46.718902: I tensorflow/stream_executor/cuda/cuda_blas.cc:1786] TensorFloat-32 will be used for the matrix multiplication. This will only be logged once.\n"
     ]
    },
    {
     "name": "stdout",
     "output_type": "stream",
     "text": [
      "start\n",
      "start\n",
      "epoch: 51 , loss: 0.693 , acc: 73.782 , val_loss: 0.693 , val_acc : 73.851\n",
      "{'A_hidden': 64.0, 'B_dropout': 0.0, 'C_dropout': 0.0, 'D_hidden': 32.0}\n",
      "________________________________________________________________________________\n",
      "________________________________________________________________________________\n"
     ]
    },
    {
     "name": "stderr",
     "output_type": "stream",
     "text": [
      "2022-07-14 16:57:38.550349: I tensorflow/core/platform/cpu_feature_guard.cc:193] This TensorFlow binary is optimized with oneAPI Deep Neural Network Library (oneDNN) to use the following CPU instructions in performance-critical operations:  AVX2 FMA\n",
      "To enable them in other operations, rebuild TensorFlow with the appropriate compiler flags.\n",
      "2022-07-14 16:57:38.912190: I tensorflow/core/common_runtime/gpu/gpu_device.cc:1532] Created device /job:localhost/replica:0/task:0/device:GPU:0 with 21433 MB memory:  -> device: 0, name: GeForce RTX 3090, pci bus id: 0000:01:00.0, compute capability: 8.6\n",
      "Traceback (most recent call last):\n",
      "  File \"/home/user304/users/jiwon/PAI_EYEPACS/source/train.py\", line 57, in <module>\n",
      "    layer = layers.Dropout(v)\n",
      "  File \"/home/user304/anaconda3/lib/python3.9/site-packages/keras/layers/regularization/dropout.py\", line 80, in __init__\n",
      "    raise ValueError(f'Invalid value {rate} received for '\n",
      "ValueError: Invalid value 3.0 received for `rate`, expected a value between 0 and 1.\n"
     ]
    },
    {
     "name": "stdout",
     "output_type": "stream",
     "text": [
      "{'A_hidden': 64.0, 'B_dropout': 0.0, 'C_dropout': 3.0, 'D_hidden': 32.0}\n",
      "________________________________________________________________________________\n",
      "________________________________________________________________________________\n"
     ]
    },
    {
     "name": "stderr",
     "output_type": "stream",
     "text": [
      "2022-07-14 16:57:42.429116: I tensorflow/core/platform/cpu_feature_guard.cc:193] This TensorFlow binary is optimized with oneAPI Deep Neural Network Library (oneDNN) to use the following CPU instructions in performance-critical operations:  AVX2 FMA\n",
      "To enable them in other operations, rebuild TensorFlow with the appropriate compiler flags.\n",
      "2022-07-14 16:57:42.812468: I tensorflow/core/common_runtime/gpu/gpu_device.cc:1532] Created device /job:localhost/replica:0/task:0/device:GPU:0 with 21433 MB memory:  -> device: 0, name: GeForce RTX 3090, pci bus id: 0000:01:00.0, compute capability: 8.6\n",
      "2022-07-14 16:57:49.847569: I tensorflow/stream_executor/cuda/cuda_dnn.cc:384] Loaded cuDNN version 8100\n",
      "2022-07-14 16:57:52.144241: I tensorflow/stream_executor/cuda/cuda_blas.cc:1786] TensorFloat-32 will be used for the matrix multiplication. This will only be logged once.\n"
     ]
    },
    {
     "name": "stdout",
     "output_type": "stream",
     "text": [
      "start\n",
      "start\n",
      "epoch: 51 , loss: 0.693 , acc: 73.782 , val_loss: 0.693 , val_acc : 73.851\n",
      "{'A_hidden': 64.0, 'B_dropout': 0.0, 'C_dropout': 0.5, 'D_hidden': 32.0}\n",
      "________________________________________________________________________________\n",
      "________________________________________________________________________________\n"
     ]
    },
    {
     "name": "stderr",
     "output_type": "stream",
     "text": [
      "2022-07-14 17:14:42.566112: I tensorflow/core/platform/cpu_feature_guard.cc:193] This TensorFlow binary is optimized with oneAPI Deep Neural Network Library (oneDNN) to use the following CPU instructions in performance-critical operations:  AVX2 FMA\n",
      "To enable them in other operations, rebuild TensorFlow with the appropriate compiler flags.\n",
      "2022-07-14 17:14:42.924327: I tensorflow/core/common_runtime/gpu/gpu_device.cc:1532] Created device /job:localhost/replica:0/task:0/device:GPU:0 with 21435 MB memory:  -> device: 0, name: GeForce RTX 3090, pci bus id: 0000:01:00.0, compute capability: 8.6\n",
      "Traceback (most recent call last):\n",
      "  File \"/home/user304/users/jiwon/PAI_EYEPACS/source/train.py\", line 57, in <module>\n",
      "    layer = layers.Dropout(v)\n",
      "  File \"/home/user304/anaconda3/lib/python3.9/site-packages/keras/layers/regularization/dropout.py\", line 80, in __init__\n",
      "    raise ValueError(f'Invalid value {rate} received for '\n",
      "ValueError: Invalid value 3.0 received for `rate`, expected a value between 0 and 1.\n"
     ]
    },
    {
     "name": "stdout",
     "output_type": "stream",
     "text": [
      "{'A_hidden': 64.0, 'B_dropout': 3.0, 'C_dropout': 0.0, 'D_hidden': 32.0}\n",
      "________________________________________________________________________________\n",
      "________________________________________________________________________________\n"
     ]
    },
    {
     "name": "stderr",
     "output_type": "stream",
     "text": [
      "2022-07-14 17:14:46.405047: I tensorflow/core/platform/cpu_feature_guard.cc:193] This TensorFlow binary is optimized with oneAPI Deep Neural Network Library (oneDNN) to use the following CPU instructions in performance-critical operations:  AVX2 FMA\n",
      "To enable them in other operations, rebuild TensorFlow with the appropriate compiler flags.\n",
      "2022-07-14 17:14:46.782947: I tensorflow/core/common_runtime/gpu/gpu_device.cc:1532] Created device /job:localhost/replica:0/task:0/device:GPU:0 with 21433 MB memory:  -> device: 0, name: GeForce RTX 3090, pci bus id: 0000:01:00.0, compute capability: 8.6\n",
      "Traceback (most recent call last):\n",
      "  File \"/home/user304/users/jiwon/PAI_EYEPACS/source/train.py\", line 57, in <module>\n",
      "    layer = layers.Dropout(v)\n",
      "  File \"/home/user304/anaconda3/lib/python3.9/site-packages/keras/layers/regularization/dropout.py\", line 80, in __init__\n",
      "    raise ValueError(f'Invalid value {rate} received for '\n",
      "ValueError: Invalid value 3.0 received for `rate`, expected a value between 0 and 1.\n"
     ]
    },
    {
     "name": "stdout",
     "output_type": "stream",
     "text": [
      "{'A_hidden': 64.0, 'B_dropout': 3.0, 'C_dropout': 0.0, 'D_hidden': 32.0}\n",
      "________________________________________________________________________________\n",
      "________________________________________________________________________________\n"
     ]
    },
    {
     "name": "stderr",
     "output_type": "stream",
     "text": [
      "2022-07-14 17:14:50.253276: I tensorflow/core/platform/cpu_feature_guard.cc:193] This TensorFlow binary is optimized with oneAPI Deep Neural Network Library (oneDNN) to use the following CPU instructions in performance-critical operations:  AVX2 FMA\n",
      "To enable them in other operations, rebuild TensorFlow with the appropriate compiler flags.\n",
      "2022-07-14 17:14:50.614031: I tensorflow/core/common_runtime/gpu/gpu_device.cc:1532] Created device /job:localhost/replica:0/task:0/device:GPU:0 with 21435 MB memory:  -> device: 0, name: GeForce RTX 3090, pci bus id: 0000:01:00.0, compute capability: 8.6\n",
      "Traceback (most recent call last):\n",
      "  File \"/home/user304/users/jiwon/PAI_EYEPACS/source/train.py\", line 57, in <module>\n",
      "    layer = layers.Dropout(v)\n",
      "  File \"/home/user304/anaconda3/lib/python3.9/site-packages/keras/layers/regularization/dropout.py\", line 80, in __init__\n",
      "    raise ValueError(f'Invalid value {rate} received for '\n",
      "ValueError: Invalid value 3.0 received for `rate`, expected a value between 0 and 1.\n"
     ]
    },
    {
     "name": "stdout",
     "output_type": "stream",
     "text": [
      "{'A_hidden': 64.0, 'B_dropout': 3.0, 'C_dropout': 3.0, 'D_hidden': 32.0}\n",
      "________________________________________________________________________________\n",
      "________________________________________________________________________________\n"
     ]
    },
    {
     "name": "stderr",
     "output_type": "stream",
     "text": [
      "2022-07-14 17:14:54.100910: I tensorflow/core/platform/cpu_feature_guard.cc:193] This TensorFlow binary is optimized with oneAPI Deep Neural Network Library (oneDNN) to use the following CPU instructions in performance-critical operations:  AVX2 FMA\n",
      "To enable them in other operations, rebuild TensorFlow with the appropriate compiler flags.\n",
      "2022-07-14 17:14:54.461764: I tensorflow/core/common_runtime/gpu/gpu_device.cc:1532] Created device /job:localhost/replica:0/task:0/device:GPU:0 with 21433 MB memory:  -> device: 0, name: GeForce RTX 3090, pci bus id: 0000:01:00.0, compute capability: 8.6\n",
      "Traceback (most recent call last):\n",
      "  File \"/home/user304/users/jiwon/PAI_EYEPACS/source/train.py\", line 57, in <module>\n",
      "    layer = layers.Dropout(v)\n",
      "  File \"/home/user304/anaconda3/lib/python3.9/site-packages/keras/layers/regularization/dropout.py\", line 80, in __init__\n",
      "    raise ValueError(f'Invalid value {rate} received for '\n",
      "ValueError: Invalid value 3.0 received for `rate`, expected a value between 0 and 1.\n"
     ]
    },
    {
     "name": "stdout",
     "output_type": "stream",
     "text": [
      "{'A_hidden': 64.0, 'B_dropout': 3.0, 'C_dropout': 0.5, 'D_hidden': 32.0}\n",
      "________________________________________________________________________________\n",
      "________________________________________________________________________________\n"
     ]
    },
    {
     "name": "stderr",
     "output_type": "stream",
     "text": [
      "2022-07-14 17:14:57.944929: I tensorflow/core/platform/cpu_feature_guard.cc:193] This TensorFlow binary is optimized with oneAPI Deep Neural Network Library (oneDNN) to use the following CPU instructions in performance-critical operations:  AVX2 FMA\n",
      "To enable them in other operations, rebuild TensorFlow with the appropriate compiler flags.\n",
      "2022-07-14 17:14:58.302340: I tensorflow/core/common_runtime/gpu/gpu_device.cc:1532] Created device /job:localhost/replica:0/task:0/device:GPU:0 with 21433 MB memory:  -> device: 0, name: GeForce RTX 3090, pci bus id: 0000:01:00.0, compute capability: 8.6\n",
      "2022-07-14 17:15:05.368903: I tensorflow/stream_executor/cuda/cuda_dnn.cc:384] Loaded cuDNN version 8100\n",
      "2022-07-14 17:15:07.656743: I tensorflow/stream_executor/cuda/cuda_blas.cc:1786] TensorFloat-32 will be used for the matrix multiplication. This will only be logged once.\n"
     ]
    },
    {
     "name": "stdout",
     "output_type": "stream",
     "text": [
      "start\n",
      "start\n",
      "epoch: 51 , loss: 0.693 , acc: 61.175 , val_loss: 0.693 , val_acc : 73.851\n",
      "{'A_hidden': 64.0, 'B_dropout': 0.5, 'C_dropout': 0.0, 'D_hidden': 32.0}\n",
      "________________________________________________________________________________\n",
      "________________________________________________________________________________\n"
     ]
    },
    {
     "name": "stderr",
     "output_type": "stream",
     "text": [
      "2022-07-14 17:31:59.955097: I tensorflow/core/platform/cpu_feature_guard.cc:193] This TensorFlow binary is optimized with oneAPI Deep Neural Network Library (oneDNN) to use the following CPU instructions in performance-critical operations:  AVX2 FMA\n",
      "To enable them in other operations, rebuild TensorFlow with the appropriate compiler flags.\n",
      "2022-07-14 17:32:00.313789: I tensorflow/core/common_runtime/gpu/gpu_device.cc:1532] Created device /job:localhost/replica:0/task:0/device:GPU:0 with 21435 MB memory:  -> device: 0, name: GeForce RTX 3090, pci bus id: 0000:01:00.0, compute capability: 8.6\n",
      "2022-07-14 17:32:07.349234: I tensorflow/stream_executor/cuda/cuda_dnn.cc:384] Loaded cuDNN version 8100\n",
      "2022-07-14 17:32:09.647996: I tensorflow/stream_executor/cuda/cuda_blas.cc:1786] TensorFloat-32 will be used for the matrix multiplication. This will only be logged once.\n"
     ]
    },
    {
     "name": "stdout",
     "output_type": "stream",
     "text": [
      "start\n",
      "start\n",
      "epoch: 51 , loss: 0.693 , acc: 73.782 , val_loss: 0.693 , val_acc : 73.851\n",
      "{'A_hidden': 64.0, 'B_dropout': 0.5, 'C_dropout': 0.0, 'D_hidden': 32.0}\n",
      "________________________________________________________________________________\n",
      "________________________________________________________________________________\n"
     ]
    },
    {
     "name": "stderr",
     "output_type": "stream",
     "text": [
      "2022-07-14 17:48:59.783301: I tensorflow/core/platform/cpu_feature_guard.cc:193] This TensorFlow binary is optimized with oneAPI Deep Neural Network Library (oneDNN) to use the following CPU instructions in performance-critical operations:  AVX2 FMA\n",
      "To enable them in other operations, rebuild TensorFlow with the appropriate compiler flags.\n",
      "2022-07-14 17:49:00.162109: I tensorflow/core/common_runtime/gpu/gpu_device.cc:1532] Created device /job:localhost/replica:0/task:0/device:GPU:0 with 21433 MB memory:  -> device: 0, name: GeForce RTX 3090, pci bus id: 0000:01:00.0, compute capability: 8.6\n",
      "Traceback (most recent call last):\n",
      "  File \"/home/user304/users/jiwon/PAI_EYEPACS/source/train.py\", line 57, in <module>\n",
      "    layer = layers.Dropout(v)\n",
      "  File \"/home/user304/anaconda3/lib/python3.9/site-packages/keras/layers/regularization/dropout.py\", line 80, in __init__\n",
      "    raise ValueError(f'Invalid value {rate} received for '\n",
      "ValueError: Invalid value 3.0 received for `rate`, expected a value between 0 and 1.\n"
     ]
    },
    {
     "name": "stdout",
     "output_type": "stream",
     "text": [
      "{'A_hidden': 64.0, 'B_dropout': 0.5, 'C_dropout': 3.0, 'D_hidden': 32.0}\n",
      "________________________________________________________________________________\n",
      "________________________________________________________________________________\n"
     ]
    },
    {
     "name": "stderr",
     "output_type": "stream",
     "text": [
      "2022-07-14 17:49:03.648866: I tensorflow/core/platform/cpu_feature_guard.cc:193] This TensorFlow binary is optimized with oneAPI Deep Neural Network Library (oneDNN) to use the following CPU instructions in performance-critical operations:  AVX2 FMA\n",
      "To enable them in other operations, rebuild TensorFlow with the appropriate compiler flags.\n",
      "2022-07-14 17:49:04.019172: I tensorflow/core/common_runtime/gpu/gpu_device.cc:1532] Created device /job:localhost/replica:0/task:0/device:GPU:0 with 21433 MB memory:  -> device: 0, name: GeForce RTX 3090, pci bus id: 0000:01:00.0, compute capability: 8.6\n",
      "2022-07-14 17:49:11.048589: I tensorflow/stream_executor/cuda/cuda_dnn.cc:384] Loaded cuDNN version 8100\n",
      "2022-07-14 17:49:13.348247: I tensorflow/stream_executor/cuda/cuda_blas.cc:1786] TensorFloat-32 will be used for the matrix multiplication. This will only be logged once.\n"
     ]
    },
    {
     "name": "stdout",
     "output_type": "stream",
     "text": [
      "start\n",
      "start\n",
      "epoch: 51 , loss: 0.693 , acc: 73.782 , val_loss: 0.693 , val_acc : 73.851\n",
      "{'A_hidden': 64.0, 'B_dropout': 0.5, 'C_dropout': 0.5, 'D_hidden': 32.0}\n",
      "________________________________________________________________________________\n",
      "________________________________________________________________________________\n"
     ]
    },
    {
     "name": "stderr",
     "output_type": "stream",
     "text": [
      "2022-07-14 18:06:03.165895: I tensorflow/core/platform/cpu_feature_guard.cc:193] This TensorFlow binary is optimized with oneAPI Deep Neural Network Library (oneDNN) to use the following CPU instructions in performance-critical operations:  AVX2 FMA\n",
      "To enable them in other operations, rebuild TensorFlow with the appropriate compiler flags.\n",
      "2022-07-14 18:06:03.523723: I tensorflow/core/common_runtime/gpu/gpu_device.cc:1532] Created device /job:localhost/replica:0/task:0/device:GPU:0 with 21433 MB memory:  -> device: 0, name: GeForce RTX 3090, pci bus id: 0000:01:00.0, compute capability: 8.6\n",
      "2022-07-14 18:06:10.504898: I tensorflow/stream_executor/cuda/cuda_dnn.cc:384] Loaded cuDNN version 8100\n",
      "2022-07-14 18:06:12.761767: I tensorflow/stream_executor/cuda/cuda_blas.cc:1786] TensorFloat-32 will be used for the matrix multiplication. This will only be logged once.\n"
     ]
    },
    {
     "name": "stdout",
     "output_type": "stream",
     "text": [
      "start\n",
      "start\n",
      "epoch: 51 , loss: 0.693 , acc: 34.312 , val_loss: 0.693 , val_acc : 26.437\n",
      "{'A_hidden': 128.0, 'B_dropout': 0.0, 'C_dropout': 0.0, 'D_hidden': 32.0}\n",
      "________________________________________________________________________________\n",
      "________________________________________________________________________________\n"
     ]
    },
    {
     "name": "stderr",
     "output_type": "stream",
     "text": [
      "2022-07-14 18:23:03.792175: I tensorflow/core/platform/cpu_feature_guard.cc:193] This TensorFlow binary is optimized with oneAPI Deep Neural Network Library (oneDNN) to use the following CPU instructions in performance-critical operations:  AVX2 FMA\n",
      "To enable them in other operations, rebuild TensorFlow with the appropriate compiler flags.\n",
      "2022-07-14 18:23:04.151399: I tensorflow/core/common_runtime/gpu/gpu_device.cc:1532] Created device /job:localhost/replica:0/task:0/device:GPU:0 with 21433 MB memory:  -> device: 0, name: GeForce RTX 3090, pci bus id: 0000:01:00.0, compute capability: 8.6\n",
      "2022-07-14 18:23:11.128157: I tensorflow/stream_executor/cuda/cuda_dnn.cc:384] Loaded cuDNN version 8100\n",
      "2022-07-14 18:23:13.384297: I tensorflow/stream_executor/cuda/cuda_blas.cc:1786] TensorFloat-32 will be used for the matrix multiplication. This will only be logged once.\n"
     ]
    },
    {
     "name": "stdout",
     "output_type": "stream",
     "text": [
      "start\n",
      "start\n",
      "epoch: 51 , loss: 0.693 , acc: 73.782 , val_loss: 0.693 , val_acc : 73.851\n",
      "{'A_hidden': 128.0, 'B_dropout': 0.0, 'C_dropout': 0.0, 'D_hidden': 64.0}\n",
      "________________________________________________________________________________\n",
      "________________________________________________________________________________\n"
     ]
    },
    {
     "name": "stderr",
     "output_type": "stream",
     "text": [
      "2022-07-14 18:40:03.934272: I tensorflow/core/platform/cpu_feature_guard.cc:193] This TensorFlow binary is optimized with oneAPI Deep Neural Network Library (oneDNN) to use the following CPU instructions in performance-critical operations:  AVX2 FMA\n",
      "To enable them in other operations, rebuild TensorFlow with the appropriate compiler flags.\n",
      "2022-07-14 18:40:04.293914: I tensorflow/core/common_runtime/gpu/gpu_device.cc:1532] Created device /job:localhost/replica:0/task:0/device:GPU:0 with 21433 MB memory:  -> device: 0, name: GeForce RTX 3090, pci bus id: 0000:01:00.0, compute capability: 8.6\n",
      "2022-07-14 18:40:11.298875: I tensorflow/stream_executor/cuda/cuda_dnn.cc:384] Loaded cuDNN version 8100\n",
      "2022-07-14 18:40:13.600024: I tensorflow/stream_executor/cuda/cuda_blas.cc:1786] TensorFloat-32 will be used for the matrix multiplication. This will only be logged once.\n"
     ]
    },
    {
     "name": "stdout",
     "output_type": "stream",
     "text": [
      "start\n",
      "start\n",
      "epoch: 51 , loss: 0.693 , acc: 26.218 , val_loss: 0.693 , val_acc : 26.149\n",
      "{'A_hidden': 128.0, 'B_dropout': 0.0, 'C_dropout': 0.0, 'D_hidden': 32.0}\n",
      "________________________________________________________________________________\n",
      "________________________________________________________________________________\n"
     ]
    },
    {
     "name": "stderr",
     "output_type": "stream",
     "text": [
      "2022-07-14 18:57:04.901122: I tensorflow/core/platform/cpu_feature_guard.cc:193] This TensorFlow binary is optimized with oneAPI Deep Neural Network Library (oneDNN) to use the following CPU instructions in performance-critical operations:  AVX2 FMA\n",
      "To enable them in other operations, rebuild TensorFlow with the appropriate compiler flags.\n",
      "2022-07-14 18:57:05.258623: I tensorflow/core/common_runtime/gpu/gpu_device.cc:1532] Created device /job:localhost/replica:0/task:0/device:GPU:0 with 21433 MB memory:  -> device: 0, name: GeForce RTX 3090, pci bus id: 0000:01:00.0, compute capability: 8.6\n",
      "2022-07-14 18:57:12.369623: I tensorflow/stream_executor/cuda/cuda_dnn.cc:384] Loaded cuDNN version 8100\n",
      "2022-07-14 18:57:14.667813: I tensorflow/stream_executor/cuda/cuda_blas.cc:1786] TensorFloat-32 will be used for the matrix multiplication. This will only be logged once.\n"
     ]
    },
    {
     "name": "stdout",
     "output_type": "stream",
     "text": [
      "start\n",
      "start\n",
      "epoch: 51 , loss: 0.693 , acc: 38.037 , val_loss: 0.693 , val_acc : 35.345\n",
      "{'A_hidden': 128.0, 'B_dropout': 0.0, 'C_dropout': 0.0, 'D_hidden': 64.0}\n",
      "________________________________________________________________________________\n",
      "________________________________________________________________________________\n"
     ]
    },
    {
     "name": "stderr",
     "output_type": "stream",
     "text": [
      "2022-07-14 19:14:08.134772: I tensorflow/core/platform/cpu_feature_guard.cc:193] This TensorFlow binary is optimized with oneAPI Deep Neural Network Library (oneDNN) to use the following CPU instructions in performance-critical operations:  AVX2 FMA\n",
      "To enable them in other operations, rebuild TensorFlow with the appropriate compiler flags.\n",
      "2022-07-14 19:14:08.501285: I tensorflow/core/common_runtime/gpu/gpu_device.cc:1532] Created device /job:localhost/replica:0/task:0/device:GPU:0 with 21433 MB memory:  -> device: 0, name: GeForce RTX 3090, pci bus id: 0000:01:00.0, compute capability: 8.6\n",
      "Traceback (most recent call last):\n",
      "  File \"/home/user304/users/jiwon/PAI_EYEPACS/source/train.py\", line 57, in <module>\n",
      "    layer = layers.Dropout(v)\n",
      "  File \"/home/user304/anaconda3/lib/python3.9/site-packages/keras/layers/regularization/dropout.py\", line 80, in __init__\n",
      "    raise ValueError(f'Invalid value {rate} received for '\n",
      "ValueError: Invalid value 3.0 received for `rate`, expected a value between 0 and 1.\n"
     ]
    },
    {
     "name": "stdout",
     "output_type": "stream",
     "text": [
      "{'A_hidden': 128.0, 'B_dropout': 0.0, 'C_dropout': 3.0, 'D_hidden': 32.0}\n",
      "________________________________________________________________________________\n",
      "________________________________________________________________________________\n"
     ]
    },
    {
     "name": "stderr",
     "output_type": "stream",
     "text": [
      "2022-07-14 19:14:12.000978: I tensorflow/core/platform/cpu_feature_guard.cc:193] This TensorFlow binary is optimized with oneAPI Deep Neural Network Library (oneDNN) to use the following CPU instructions in performance-critical operations:  AVX2 FMA\n",
      "To enable them in other operations, rebuild TensorFlow with the appropriate compiler flags.\n",
      "2022-07-14 19:14:12.372253: I tensorflow/core/common_runtime/gpu/gpu_device.cc:1532] Created device /job:localhost/replica:0/task:0/device:GPU:0 with 21433 MB memory:  -> device: 0, name: GeForce RTX 3090, pci bus id: 0000:01:00.0, compute capability: 8.6\n",
      "Traceback (most recent call last):\n",
      "  File \"/home/user304/users/jiwon/PAI_EYEPACS/source/train.py\", line 57, in <module>\n",
      "    layer = layers.Dropout(v)\n",
      "  File \"/home/user304/anaconda3/lib/python3.9/site-packages/keras/layers/regularization/dropout.py\", line 80, in __init__\n",
      "    raise ValueError(f'Invalid value {rate} received for '\n",
      "ValueError: Invalid value 3.0 received for `rate`, expected a value between 0 and 1.\n"
     ]
    },
    {
     "name": "stdout",
     "output_type": "stream",
     "text": [
      "{'A_hidden': 128.0, 'B_dropout': 0.0, 'C_dropout': 3.0, 'D_hidden': 64.0}\n",
      "________________________________________________________________________________\n",
      "________________________________________________________________________________\n"
     ]
    },
    {
     "name": "stderr",
     "output_type": "stream",
     "text": [
      "2022-07-14 19:14:15.896190: I tensorflow/core/platform/cpu_feature_guard.cc:193] This TensorFlow binary is optimized with oneAPI Deep Neural Network Library (oneDNN) to use the following CPU instructions in performance-critical operations:  AVX2 FMA\n",
      "To enable them in other operations, rebuild TensorFlow with the appropriate compiler flags.\n",
      "2022-07-14 19:14:16.260617: I tensorflow/core/common_runtime/gpu/gpu_device.cc:1532] Created device /job:localhost/replica:0/task:0/device:GPU:0 with 21433 MB memory:  -> device: 0, name: GeForce RTX 3090, pci bus id: 0000:01:00.0, compute capability: 8.6\n",
      "2022-07-14 19:14:23.304124: I tensorflow/stream_executor/cuda/cuda_dnn.cc:384] Loaded cuDNN version 8100\n",
      "2022-07-14 19:14:25.603707: I tensorflow/stream_executor/cuda/cuda_blas.cc:1786] TensorFloat-32 will be used for the matrix multiplication. This will only be logged once.\n"
     ]
    },
    {
     "name": "stdout",
     "output_type": "stream",
     "text": [
      "start\n",
      "start\n",
      "epoch: 51 , loss: 0.693 , acc: 73.782 , val_loss: 0.693 , val_acc : 73.851\n",
      "{'A_hidden': 128.0, 'B_dropout': 0.0, 'C_dropout': 0.5, 'D_hidden': 32.0}\n",
      "________________________________________________________________________________\n",
      "________________________________________________________________________________\n"
     ]
    },
    {
     "name": "stderr",
     "output_type": "stream",
     "text": [
      "2022-07-14 19:31:15.008691: I tensorflow/core/platform/cpu_feature_guard.cc:193] This TensorFlow binary is optimized with oneAPI Deep Neural Network Library (oneDNN) to use the following CPU instructions in performance-critical operations:  AVX2 FMA\n",
      "To enable them in other operations, rebuild TensorFlow with the appropriate compiler flags.\n",
      "2022-07-14 19:31:15.369375: I tensorflow/core/common_runtime/gpu/gpu_device.cc:1532] Created device /job:localhost/replica:0/task:0/device:GPU:0 with 21433 MB memory:  -> device: 0, name: GeForce RTX 3090, pci bus id: 0000:01:00.0, compute capability: 8.6\n",
      "2022-07-14 19:31:22.425553: I tensorflow/stream_executor/cuda/cuda_dnn.cc:384] Loaded cuDNN version 8100\n",
      "2022-07-14 19:31:24.720014: I tensorflow/stream_executor/cuda/cuda_blas.cc:1786] TensorFloat-32 will be used for the matrix multiplication. This will only be logged once.\n"
     ]
    },
    {
     "name": "stdout",
     "output_type": "stream",
     "text": [
      "start\n",
      "start\n",
      "epoch: 51 , loss: 0.577 , acc: 73.782 , val_loss: 0.563 , val_acc : 73.851\n",
      "{'A_hidden': 128.0, 'B_dropout': 0.0, 'C_dropout': 0.5, 'D_hidden': 64.0}\n",
      "________________________________________________________________________________\n",
      "________________________________________________________________________________\n"
     ]
    },
    {
     "name": "stderr",
     "output_type": "stream",
     "text": [
      "2022-07-14 19:48:19.220777: I tensorflow/core/platform/cpu_feature_guard.cc:193] This TensorFlow binary is optimized with oneAPI Deep Neural Network Library (oneDNN) to use the following CPU instructions in performance-critical operations:  AVX2 FMA\n",
      "To enable them in other operations, rebuild TensorFlow with the appropriate compiler flags.\n",
      "2022-07-14 19:48:19.580597: I tensorflow/core/common_runtime/gpu/gpu_device.cc:1532] Created device /job:localhost/replica:0/task:0/device:GPU:0 with 21433 MB memory:  -> device: 0, name: GeForce RTX 3090, pci bus id: 0000:01:00.0, compute capability: 8.6\n",
      "2022-07-14 19:48:26.627940: I tensorflow/stream_executor/cuda/cuda_dnn.cc:384] Loaded cuDNN version 8100\n",
      "2022-07-14 19:48:28.928786: I tensorflow/stream_executor/cuda/cuda_blas.cc:1786] TensorFloat-32 will be used for the matrix multiplication. This will only be logged once.\n"
     ]
    },
    {
     "name": "stdout",
     "output_type": "stream",
     "text": [
      "start\n",
      "start\n",
      "epoch: 51 , loss: 0.693 , acc: 26.218 , val_loss: 0.693 , val_acc : 26.149\n",
      "{'A_hidden': 128.0, 'B_dropout': 0.0, 'C_dropout': 0.0, 'D_hidden': 32.0}\n",
      "________________________________________________________________________________\n",
      "________________________________________________________________________________\n"
     ]
    },
    {
     "name": "stderr",
     "output_type": "stream",
     "text": [
      "2022-07-14 20:05:19.738362: I tensorflow/core/platform/cpu_feature_guard.cc:193] This TensorFlow binary is optimized with oneAPI Deep Neural Network Library (oneDNN) to use the following CPU instructions in performance-critical operations:  AVX2 FMA\n",
      "To enable them in other operations, rebuild TensorFlow with the appropriate compiler flags.\n",
      "2022-07-14 20:05:20.096406: I tensorflow/core/common_runtime/gpu/gpu_device.cc:1532] Created device /job:localhost/replica:0/task:0/device:GPU:0 with 21433 MB memory:  -> device: 0, name: GeForce RTX 3090, pci bus id: 0000:01:00.0, compute capability: 8.6\n",
      "2022-07-14 20:05:27.165271: I tensorflow/stream_executor/cuda/cuda_dnn.cc:384] Loaded cuDNN version 8100\n",
      "2022-07-14 20:05:29.468562: I tensorflow/stream_executor/cuda/cuda_blas.cc:1786] TensorFloat-32 will be used for the matrix multiplication. This will only be logged once.\n"
     ]
    },
    {
     "name": "stdout",
     "output_type": "stream",
     "text": [
      "start\n",
      "start\n",
      "epoch: 51 , loss: 0.693 , acc: 68.410 , val_loss: 0.694 , val_acc : 71.264\n",
      "{'A_hidden': 128.0, 'B_dropout': 0.0, 'C_dropout': 0.0, 'D_hidden': 64.0}\n",
      "________________________________________________________________________________\n",
      "________________________________________________________________________________\n"
     ]
    },
    {
     "name": "stderr",
     "output_type": "stream",
     "text": [
      "2022-07-14 20:22:21.974270: I tensorflow/core/platform/cpu_feature_guard.cc:193] This TensorFlow binary is optimized with oneAPI Deep Neural Network Library (oneDNN) to use the following CPU instructions in performance-critical operations:  AVX2 FMA\n",
      "To enable them in other operations, rebuild TensorFlow with the appropriate compiler flags.\n",
      "2022-07-14 20:22:22.334460: I tensorflow/core/common_runtime/gpu/gpu_device.cc:1532] Created device /job:localhost/replica:0/task:0/device:GPU:0 with 21433 MB memory:  -> device: 0, name: GeForce RTX 3090, pci bus id: 0000:01:00.0, compute capability: 8.6\n",
      "2022-07-14 20:22:29.452972: I tensorflow/stream_executor/cuda/cuda_dnn.cc:384] Loaded cuDNN version 8100\n",
      "2022-07-14 20:22:31.751008: I tensorflow/stream_executor/cuda/cuda_blas.cc:1786] TensorFloat-32 will be used for the matrix multiplication. This will only be logged once.\n"
     ]
    },
    {
     "name": "stdout",
     "output_type": "stream",
     "text": [
      "start\n",
      "start\n",
      "epoch: 51 , loss: 0.572 , acc: 73.782 , val_loss: 0.562 , val_acc : 73.851\n",
      "{'A_hidden': 128.0, 'B_dropout': 0.0, 'C_dropout': 0.0, 'D_hidden': 32.0}\n",
      "________________________________________________________________________________\n",
      "________________________________________________________________________________\n"
     ]
    },
    {
     "name": "stderr",
     "output_type": "stream",
     "text": [
      "2022-07-14 20:39:26.518495: I tensorflow/core/platform/cpu_feature_guard.cc:193] This TensorFlow binary is optimized with oneAPI Deep Neural Network Library (oneDNN) to use the following CPU instructions in performance-critical operations:  AVX2 FMA\n",
      "To enable them in other operations, rebuild TensorFlow with the appropriate compiler flags.\n",
      "2022-07-14 20:39:26.900445: I tensorflow/core/common_runtime/gpu/gpu_device.cc:1532] Created device /job:localhost/replica:0/task:0/device:GPU:0 with 21433 MB memory:  -> device: 0, name: GeForce RTX 3090, pci bus id: 0000:01:00.0, compute capability: 8.6\n",
      "2022-07-14 20:39:33.998445: I tensorflow/stream_executor/cuda/cuda_dnn.cc:384] Loaded cuDNN version 8100\n",
      "2022-07-14 20:39:36.298977: I tensorflow/stream_executor/cuda/cuda_blas.cc:1786] TensorFloat-32 will be used for the matrix multiplication. This will only be logged once.\n"
     ]
    },
    {
     "name": "stdout",
     "output_type": "stream",
     "text": [
      "start\n",
      "start\n",
      "epoch: 51 , loss: 0.693 , acc: 73.782 , val_loss: 0.693 , val_acc : 73.851\n",
      "{'A_hidden': 128.0, 'B_dropout': 0.0, 'C_dropout': 0.0, 'D_hidden': 64.0}\n",
      "________________________________________________________________________________\n",
      "________________________________________________________________________________\n"
     ]
    },
    {
     "name": "stderr",
     "output_type": "stream",
     "text": [
      "2022-07-14 20:56:28.171850: I tensorflow/core/platform/cpu_feature_guard.cc:193] This TensorFlow binary is optimized with oneAPI Deep Neural Network Library (oneDNN) to use the following CPU instructions in performance-critical operations:  AVX2 FMA\n",
      "To enable them in other operations, rebuild TensorFlow with the appropriate compiler flags.\n",
      "2022-07-14 20:56:28.535145: I tensorflow/core/common_runtime/gpu/gpu_device.cc:1532] Created device /job:localhost/replica:0/task:0/device:GPU:0 with 21435 MB memory:  -> device: 0, name: GeForce RTX 3090, pci bus id: 0000:01:00.0, compute capability: 8.6\n",
      "Traceback (most recent call last):\n",
      "  File \"/home/user304/users/jiwon/PAI_EYEPACS/source/train.py\", line 57, in <module>\n",
      "    layer = layers.Dropout(v)\n",
      "  File \"/home/user304/anaconda3/lib/python3.9/site-packages/keras/layers/regularization/dropout.py\", line 80, in __init__\n",
      "    raise ValueError(f'Invalid value {rate} received for '\n",
      "ValueError: Invalid value 3.0 received for `rate`, expected a value between 0 and 1.\n"
     ]
    },
    {
     "name": "stdout",
     "output_type": "stream",
     "text": [
      "{'A_hidden': 128.0, 'B_dropout': 0.0, 'C_dropout': 3.0, 'D_hidden': 32.0}\n",
      "________________________________________________________________________________\n",
      "________________________________________________________________________________\n"
     ]
    },
    {
     "name": "stderr",
     "output_type": "stream",
     "text": [
      "2022-07-14 20:56:32.037567: I tensorflow/core/platform/cpu_feature_guard.cc:193] This TensorFlow binary is optimized with oneAPI Deep Neural Network Library (oneDNN) to use the following CPU instructions in performance-critical operations:  AVX2 FMA\n",
      "To enable them in other operations, rebuild TensorFlow with the appropriate compiler flags.\n",
      "2022-07-14 20:56:32.402878: I tensorflow/core/common_runtime/gpu/gpu_device.cc:1532] Created device /job:localhost/replica:0/task:0/device:GPU:0 with 21433 MB memory:  -> device: 0, name: GeForce RTX 3090, pci bus id: 0000:01:00.0, compute capability: 8.6\n",
      "Traceback (most recent call last):\n",
      "  File \"/home/user304/users/jiwon/PAI_EYEPACS/source/train.py\", line 57, in <module>\n",
      "    layer = layers.Dropout(v)\n",
      "  File \"/home/user304/anaconda3/lib/python3.9/site-packages/keras/layers/regularization/dropout.py\", line 80, in __init__\n",
      "    raise ValueError(f'Invalid value {rate} received for '\n",
      "ValueError: Invalid value 3.0 received for `rate`, expected a value between 0 and 1.\n"
     ]
    },
    {
     "name": "stdout",
     "output_type": "stream",
     "text": [
      "{'A_hidden': 128.0, 'B_dropout': 0.0, 'C_dropout': 3.0, 'D_hidden': 64.0}\n",
      "________________________________________________________________________________\n",
      "________________________________________________________________________________\n"
     ]
    },
    {
     "name": "stderr",
     "output_type": "stream",
     "text": [
      "2022-07-14 20:56:35.900836: I tensorflow/core/platform/cpu_feature_guard.cc:193] This TensorFlow binary is optimized with oneAPI Deep Neural Network Library (oneDNN) to use the following CPU instructions in performance-critical operations:  AVX2 FMA\n",
      "To enable them in other operations, rebuild TensorFlow with the appropriate compiler flags.\n",
      "2022-07-14 20:56:36.266967: I tensorflow/core/common_runtime/gpu/gpu_device.cc:1532] Created device /job:localhost/replica:0/task:0/device:GPU:0 with 21433 MB memory:  -> device: 0, name: GeForce RTX 3090, pci bus id: 0000:01:00.0, compute capability: 8.6\n",
      "2022-07-14 20:56:43.310900: I tensorflow/stream_executor/cuda/cuda_dnn.cc:384] Loaded cuDNN version 8100\n",
      "2022-07-14 20:56:45.607580: I tensorflow/stream_executor/cuda/cuda_blas.cc:1786] TensorFloat-32 will be used for the matrix multiplication. This will only be logged once.\n"
     ]
    },
    {
     "name": "stdout",
     "output_type": "stream",
     "text": [
      "start\n",
      "start\n",
      "epoch: 51 , loss: 4.208 , acc: 73.782 , val_loss: 3.951 , val_acc : 73.851\n",
      "{'A_hidden': 128.0, 'B_dropout': 0.0, 'C_dropout': 0.5, 'D_hidden': 32.0}\n",
      "________________________________________________________________________________\n",
      "________________________________________________________________________________\n"
     ]
    },
    {
     "name": "stderr",
     "output_type": "stream",
     "text": [
      "2022-07-14 21:13:37.065103: I tensorflow/core/platform/cpu_feature_guard.cc:193] This TensorFlow binary is optimized with oneAPI Deep Neural Network Library (oneDNN) to use the following CPU instructions in performance-critical operations:  AVX2 FMA\n",
      "To enable them in other operations, rebuild TensorFlow with the appropriate compiler flags.\n",
      "2022-07-14 21:13:37.444471: I tensorflow/core/common_runtime/gpu/gpu_device.cc:1532] Created device /job:localhost/replica:0/task:0/device:GPU:0 with 21433 MB memory:  -> device: 0, name: GeForce RTX 3090, pci bus id: 0000:01:00.0, compute capability: 8.6\n",
      "2022-07-14 21:13:44.502318: I tensorflow/stream_executor/cuda/cuda_dnn.cc:384] Loaded cuDNN version 8100\n",
      "2022-07-14 21:13:46.807109: I tensorflow/stream_executor/cuda/cuda_blas.cc:1786] TensorFloat-32 will be used for the matrix multiplication. This will only be logged once.\n"
     ]
    },
    {
     "name": "stdout",
     "output_type": "stream",
     "text": [
      "start\n",
      "start\n",
      "epoch: 51 , loss: 0.693 , acc: 73.782 , val_loss: 0.693 , val_acc : 73.851\n",
      "{'A_hidden': 128.0, 'B_dropout': 0.0, 'C_dropout': 0.5, 'D_hidden': 64.0}\n",
      "________________________________________________________________________________\n",
      "________________________________________________________________________________\n"
     ]
    },
    {
     "name": "stderr",
     "output_type": "stream",
     "text": [
      "2022-07-14 21:30:37.624708: I tensorflow/core/platform/cpu_feature_guard.cc:193] This TensorFlow binary is optimized with oneAPI Deep Neural Network Library (oneDNN) to use the following CPU instructions in performance-critical operations:  AVX2 FMA\n",
      "To enable them in other operations, rebuild TensorFlow with the appropriate compiler flags.\n",
      "2022-07-14 21:30:37.991798: I tensorflow/core/common_runtime/gpu/gpu_device.cc:1532] Created device /job:localhost/replica:0/task:0/device:GPU:0 with 21433 MB memory:  -> device: 0, name: GeForce RTX 3090, pci bus id: 0000:01:00.0, compute capability: 8.6\n",
      "Traceback (most recent call last):\n",
      "  File \"/home/user304/users/jiwon/PAI_EYEPACS/source/train.py\", line 57, in <module>\n",
      "    layer = layers.Dropout(v)\n",
      "  File \"/home/user304/anaconda3/lib/python3.9/site-packages/keras/layers/regularization/dropout.py\", line 80, in __init__\n",
      "    raise ValueError(f'Invalid value {rate} received for '\n",
      "ValueError: Invalid value 3.0 received for `rate`, expected a value between 0 and 1.\n"
     ]
    },
    {
     "name": "stdout",
     "output_type": "stream",
     "text": [
      "{'A_hidden': 128.0, 'B_dropout': 3.0, 'C_dropout': 0.0, 'D_hidden': 32.0}\n",
      "________________________________________________________________________________\n",
      "________________________________________________________________________________\n"
     ]
    },
    {
     "name": "stderr",
     "output_type": "stream",
     "text": [
      "2022-07-14 21:30:41.492513: I tensorflow/core/platform/cpu_feature_guard.cc:193] This TensorFlow binary is optimized with oneAPI Deep Neural Network Library (oneDNN) to use the following CPU instructions in performance-critical operations:  AVX2 FMA\n",
      "To enable them in other operations, rebuild TensorFlow with the appropriate compiler flags.\n",
      "2022-07-14 21:30:41.861601: I tensorflow/core/common_runtime/gpu/gpu_device.cc:1532] Created device /job:localhost/replica:0/task:0/device:GPU:0 with 21433 MB memory:  -> device: 0, name: GeForce RTX 3090, pci bus id: 0000:01:00.0, compute capability: 8.6\n",
      "Traceback (most recent call last):\n",
      "  File \"/home/user304/users/jiwon/PAI_EYEPACS/source/train.py\", line 57, in <module>\n",
      "    layer = layers.Dropout(v)\n",
      "  File \"/home/user304/anaconda3/lib/python3.9/site-packages/keras/layers/regularization/dropout.py\", line 80, in __init__\n",
      "    raise ValueError(f'Invalid value {rate} received for '\n",
      "ValueError: Invalid value 3.0 received for `rate`, expected a value between 0 and 1.\n"
     ]
    },
    {
     "name": "stdout",
     "output_type": "stream",
     "text": [
      "{'A_hidden': 128.0, 'B_dropout': 3.0, 'C_dropout': 0.0, 'D_hidden': 64.0}\n",
      "________________________________________________________________________________\n",
      "________________________________________________________________________________\n"
     ]
    },
    {
     "name": "stderr",
     "output_type": "stream",
     "text": [
      "2022-07-14 21:30:45.358127: I tensorflow/core/platform/cpu_feature_guard.cc:193] This TensorFlow binary is optimized with oneAPI Deep Neural Network Library (oneDNN) to use the following CPU instructions in performance-critical operations:  AVX2 FMA\n",
      "To enable them in other operations, rebuild TensorFlow with the appropriate compiler flags.\n",
      "2022-07-14 21:30:45.722718: I tensorflow/core/common_runtime/gpu/gpu_device.cc:1532] Created device /job:localhost/replica:0/task:0/device:GPU:0 with 21433 MB memory:  -> device: 0, name: GeForce RTX 3090, pci bus id: 0000:01:00.0, compute capability: 8.6\n",
      "Traceback (most recent call last):\n",
      "  File \"/home/user304/users/jiwon/PAI_EYEPACS/source/train.py\", line 57, in <module>\n",
      "    layer = layers.Dropout(v)\n",
      "  File \"/home/user304/anaconda3/lib/python3.9/site-packages/keras/layers/regularization/dropout.py\", line 80, in __init__\n",
      "    raise ValueError(f'Invalid value {rate} received for '\n",
      "ValueError: Invalid value 3.0 received for `rate`, expected a value between 0 and 1.\n"
     ]
    },
    {
     "name": "stdout",
     "output_type": "stream",
     "text": [
      "{'A_hidden': 128.0, 'B_dropout': 3.0, 'C_dropout': 0.0, 'D_hidden': 32.0}\n",
      "________________________________________________________________________________\n",
      "________________________________________________________________________________\n"
     ]
    },
    {
     "name": "stderr",
     "output_type": "stream",
     "text": [
      "2022-07-14 21:30:49.214367: I tensorflow/core/platform/cpu_feature_guard.cc:193] This TensorFlow binary is optimized with oneAPI Deep Neural Network Library (oneDNN) to use the following CPU instructions in performance-critical operations:  AVX2 FMA\n",
      "To enable them in other operations, rebuild TensorFlow with the appropriate compiler flags.\n",
      "2022-07-14 21:30:49.580609: I tensorflow/core/common_runtime/gpu/gpu_device.cc:1532] Created device /job:localhost/replica:0/task:0/device:GPU:0 with 21435 MB memory:  -> device: 0, name: GeForce RTX 3090, pci bus id: 0000:01:00.0, compute capability: 8.6\n",
      "Traceback (most recent call last):\n",
      "  File \"/home/user304/users/jiwon/PAI_EYEPACS/source/train.py\", line 57, in <module>\n",
      "    layer = layers.Dropout(v)\n",
      "  File \"/home/user304/anaconda3/lib/python3.9/site-packages/keras/layers/regularization/dropout.py\", line 80, in __init__\n",
      "    raise ValueError(f'Invalid value {rate} received for '\n",
      "ValueError: Invalid value 3.0 received for `rate`, expected a value between 0 and 1.\n"
     ]
    },
    {
     "name": "stdout",
     "output_type": "stream",
     "text": [
      "{'A_hidden': 128.0, 'B_dropout': 3.0, 'C_dropout': 0.0, 'D_hidden': 64.0}\n",
      "________________________________________________________________________________\n",
      "________________________________________________________________________________\n"
     ]
    },
    {
     "name": "stderr",
     "output_type": "stream",
     "text": [
      "2022-07-14 21:30:53.073738: I tensorflow/core/platform/cpu_feature_guard.cc:193] This TensorFlow binary is optimized with oneAPI Deep Neural Network Library (oneDNN) to use the following CPU instructions in performance-critical operations:  AVX2 FMA\n",
      "To enable them in other operations, rebuild TensorFlow with the appropriate compiler flags.\n",
      "2022-07-14 21:30:53.438439: I tensorflow/core/common_runtime/gpu/gpu_device.cc:1532] Created device /job:localhost/replica:0/task:0/device:GPU:0 with 21433 MB memory:  -> device: 0, name: GeForce RTX 3090, pci bus id: 0000:01:00.0, compute capability: 8.6\n",
      "Traceback (most recent call last):\n",
      "  File \"/home/user304/users/jiwon/PAI_EYEPACS/source/train.py\", line 57, in <module>\n",
      "    layer = layers.Dropout(v)\n",
      "  File \"/home/user304/anaconda3/lib/python3.9/site-packages/keras/layers/regularization/dropout.py\", line 80, in __init__\n",
      "    raise ValueError(f'Invalid value {rate} received for '\n",
      "ValueError: Invalid value 3.0 received for `rate`, expected a value between 0 and 1.\n"
     ]
    },
    {
     "name": "stdout",
     "output_type": "stream",
     "text": [
      "{'A_hidden': 128.0, 'B_dropout': 3.0, 'C_dropout': 3.0, 'D_hidden': 32.0}\n",
      "________________________________________________________________________________\n",
      "________________________________________________________________________________\n"
     ]
    },
    {
     "name": "stderr",
     "output_type": "stream",
     "text": [
      "2022-07-14 21:30:56.927798: I tensorflow/core/platform/cpu_feature_guard.cc:193] This TensorFlow binary is optimized with oneAPI Deep Neural Network Library (oneDNN) to use the following CPU instructions in performance-critical operations:  AVX2 FMA\n",
      "To enable them in other operations, rebuild TensorFlow with the appropriate compiler flags.\n",
      "2022-07-14 21:30:57.292706: I tensorflow/core/common_runtime/gpu/gpu_device.cc:1532] Created device /job:localhost/replica:0/task:0/device:GPU:0 with 21433 MB memory:  -> device: 0, name: GeForce RTX 3090, pci bus id: 0000:01:00.0, compute capability: 8.6\n",
      "Traceback (most recent call last):\n",
      "  File \"/home/user304/users/jiwon/PAI_EYEPACS/source/train.py\", line 57, in <module>\n",
      "    layer = layers.Dropout(v)\n",
      "  File \"/home/user304/anaconda3/lib/python3.9/site-packages/keras/layers/regularization/dropout.py\", line 80, in __init__\n",
      "    raise ValueError(f'Invalid value {rate} received for '\n",
      "ValueError: Invalid value 3.0 received for `rate`, expected a value between 0 and 1.\n"
     ]
    },
    {
     "name": "stdout",
     "output_type": "stream",
     "text": [
      "{'A_hidden': 128.0, 'B_dropout': 3.0, 'C_dropout': 3.0, 'D_hidden': 64.0}\n",
      "________________________________________________________________________________\n",
      "________________________________________________________________________________\n"
     ]
    },
    {
     "name": "stderr",
     "output_type": "stream",
     "text": [
      "2022-07-14 21:31:00.792296: I tensorflow/core/platform/cpu_feature_guard.cc:193] This TensorFlow binary is optimized with oneAPI Deep Neural Network Library (oneDNN) to use the following CPU instructions in performance-critical operations:  AVX2 FMA\n",
      "To enable them in other operations, rebuild TensorFlow with the appropriate compiler flags.\n",
      "2022-07-14 21:31:01.197687: I tensorflow/core/common_runtime/gpu/gpu_device.cc:1532] Created device /job:localhost/replica:0/task:0/device:GPU:0 with 21435 MB memory:  -> device: 0, name: GeForce RTX 3090, pci bus id: 0000:01:00.0, compute capability: 8.6\n",
      "Traceback (most recent call last):\n",
      "  File \"/home/user304/users/jiwon/PAI_EYEPACS/source/train.py\", line 57, in <module>\n",
      "    layer = layers.Dropout(v)\n",
      "  File \"/home/user304/anaconda3/lib/python3.9/site-packages/keras/layers/regularization/dropout.py\", line 80, in __init__\n",
      "    raise ValueError(f'Invalid value {rate} received for '\n",
      "ValueError: Invalid value 3.0 received for `rate`, expected a value between 0 and 1.\n"
     ]
    },
    {
     "name": "stdout",
     "output_type": "stream",
     "text": [
      "{'A_hidden': 128.0, 'B_dropout': 3.0, 'C_dropout': 0.5, 'D_hidden': 32.0}\n",
      "________________________________________________________________________________\n",
      "________________________________________________________________________________\n"
     ]
    },
    {
     "name": "stderr",
     "output_type": "stream",
     "text": [
      "2022-07-14 21:31:04.684454: I tensorflow/core/platform/cpu_feature_guard.cc:193] This TensorFlow binary is optimized with oneAPI Deep Neural Network Library (oneDNN) to use the following CPU instructions in performance-critical operations:  AVX2 FMA\n",
      "To enable them in other operations, rebuild TensorFlow with the appropriate compiler flags.\n",
      "2022-07-14 21:31:05.062960: I tensorflow/core/common_runtime/gpu/gpu_device.cc:1532] Created device /job:localhost/replica:0/task:0/device:GPU:0 with 21433 MB memory:  -> device: 0, name: GeForce RTX 3090, pci bus id: 0000:01:00.0, compute capability: 8.6\n",
      "Traceback (most recent call last):\n",
      "  File \"/home/user304/users/jiwon/PAI_EYEPACS/source/train.py\", line 57, in <module>\n",
      "    layer = layers.Dropout(v)\n",
      "  File \"/home/user304/anaconda3/lib/python3.9/site-packages/keras/layers/regularization/dropout.py\", line 80, in __init__\n",
      "    raise ValueError(f'Invalid value {rate} received for '\n",
      "ValueError: Invalid value 3.0 received for `rate`, expected a value between 0 and 1.\n"
     ]
    },
    {
     "name": "stdout",
     "output_type": "stream",
     "text": [
      "{'A_hidden': 128.0, 'B_dropout': 3.0, 'C_dropout': 0.5, 'D_hidden': 64.0}\n",
      "________________________________________________________________________________\n",
      "________________________________________________________________________________\n"
     ]
    },
    {
     "name": "stderr",
     "output_type": "stream",
     "text": [
      "2022-07-14 21:31:08.547921: I tensorflow/core/platform/cpu_feature_guard.cc:193] This TensorFlow binary is optimized with oneAPI Deep Neural Network Library (oneDNN) to use the following CPU instructions in performance-critical operations:  AVX2 FMA\n",
      "To enable them in other operations, rebuild TensorFlow with the appropriate compiler flags.\n",
      "2022-07-14 21:31:08.942250: I tensorflow/core/common_runtime/gpu/gpu_device.cc:1532] Created device /job:localhost/replica:0/task:0/device:GPU:0 with 21433 MB memory:  -> device: 0, name: GeForce RTX 3090, pci bus id: 0000:01:00.0, compute capability: 8.6\n",
      "2022-07-14 21:31:15.988976: I tensorflow/stream_executor/cuda/cuda_dnn.cc:384] Loaded cuDNN version 8100\n",
      "2022-07-14 21:31:18.286797: I tensorflow/stream_executor/cuda/cuda_blas.cc:1786] TensorFloat-32 will be used for the matrix multiplication. This will only be logged once.\n"
     ]
    },
    {
     "name": "stdout",
     "output_type": "stream",
     "text": [
      "start\n",
      "start\n",
      "epoch: 51 , loss: 0.693 , acc: 73.782 , val_loss: 0.693 , val_acc : 73.851\n",
      "{'A_hidden': 128.0, 'B_dropout': 0.5, 'C_dropout': 0.0, 'D_hidden': 32.0}\n",
      "________________________________________________________________________________\n",
      "________________________________________________________________________________\n"
     ]
    },
    {
     "name": "stderr",
     "output_type": "stream",
     "text": [
      "2022-07-14 21:48:10.498040: I tensorflow/core/platform/cpu_feature_guard.cc:193] This TensorFlow binary is optimized with oneAPI Deep Neural Network Library (oneDNN) to use the following CPU instructions in performance-critical operations:  AVX2 FMA\n",
      "To enable them in other operations, rebuild TensorFlow with the appropriate compiler flags.\n",
      "2022-07-14 21:48:10.859787: I tensorflow/core/common_runtime/gpu/gpu_device.cc:1532] Created device /job:localhost/replica:0/task:0/device:GPU:0 with 21433 MB memory:  -> device: 0, name: GeForce RTX 3090, pci bus id: 0000:01:00.0, compute capability: 8.6\n",
      "2022-07-14 21:48:17.878041: I tensorflow/stream_executor/cuda/cuda_dnn.cc:384] Loaded cuDNN version 8100\n",
      "2022-07-14 21:48:20.177372: I tensorflow/stream_executor/cuda/cuda_blas.cc:1786] TensorFloat-32 will be used for the matrix multiplication. This will only be logged once.\n"
     ]
    },
    {
     "name": "stdout",
     "output_type": "stream",
     "text": [
      "start\n",
      "start\n",
      "epoch: 51 , loss: 4.208 , acc: 73.782 , val_loss: 3.951 , val_acc : 73.851\n",
      "{'A_hidden': 128.0, 'B_dropout': 0.5, 'C_dropout': 0.0, 'D_hidden': 64.0}\n",
      "________________________________________________________________________________\n",
      "________________________________________________________________________________\n"
     ]
    },
    {
     "name": "stderr",
     "output_type": "stream",
     "text": [
      "2022-07-14 22:05:12.154534: I tensorflow/core/platform/cpu_feature_guard.cc:193] This TensorFlow binary is optimized with oneAPI Deep Neural Network Library (oneDNN) to use the following CPU instructions in performance-critical operations:  AVX2 FMA\n",
      "To enable them in other operations, rebuild TensorFlow with the appropriate compiler flags.\n",
      "2022-07-14 22:05:12.521030: I tensorflow/core/common_runtime/gpu/gpu_device.cc:1532] Created device /job:localhost/replica:0/task:0/device:GPU:0 with 21433 MB memory:  -> device: 0, name: GeForce RTX 3090, pci bus id: 0000:01:00.0, compute capability: 8.6\n",
      "2022-07-14 22:05:19.560030: I tensorflow/stream_executor/cuda/cuda_dnn.cc:384] Loaded cuDNN version 8100\n",
      "2022-07-14 22:05:21.868363: I tensorflow/stream_executor/cuda/cuda_blas.cc:1786] TensorFloat-32 will be used for the matrix multiplication. This will only be logged once.\n"
     ]
    },
    {
     "name": "stdout",
     "output_type": "stream",
     "text": [
      "start\n",
      "start\n",
      "epoch: 51 , loss: 0.693 , acc: 73.782 , val_loss: 0.693 , val_acc : 73.851\n",
      "{'A_hidden': 128.0, 'B_dropout': 0.5, 'C_dropout': 0.0, 'D_hidden': 32.0}\n",
      "________________________________________________________________________________\n",
      "________________________________________________________________________________\n"
     ]
    },
    {
     "name": "stderr",
     "output_type": "stream",
     "text": [
      "2022-07-14 22:22:14.431862: I tensorflow/core/platform/cpu_feature_guard.cc:193] This TensorFlow binary is optimized with oneAPI Deep Neural Network Library (oneDNN) to use the following CPU instructions in performance-critical operations:  AVX2 FMA\n",
      "To enable them in other operations, rebuild TensorFlow with the appropriate compiler flags.\n",
      "2022-07-14 22:22:14.805454: I tensorflow/core/common_runtime/gpu/gpu_device.cc:1532] Created device /job:localhost/replica:0/task:0/device:GPU:0 with 21433 MB memory:  -> device: 0, name: GeForce RTX 3090, pci bus id: 0000:01:00.0, compute capability: 8.6\n",
      "2022-07-14 22:22:21.892272: I tensorflow/stream_executor/cuda/cuda_dnn.cc:384] Loaded cuDNN version 8100\n",
      "2022-07-14 22:22:24.191114: I tensorflow/stream_executor/cuda/cuda_blas.cc:1786] TensorFloat-32 will be used for the matrix multiplication. This will only be logged once.\n"
     ]
    },
    {
     "name": "stdout",
     "output_type": "stream",
     "text": [
      "start\n",
      "start\n",
      "epoch: 51 , loss: 0.693 , acc: 73.782 , val_loss: 0.693 , val_acc : 73.851\n",
      "{'A_hidden': 128.0, 'B_dropout': 0.5, 'C_dropout': 0.5, 'D_hidden': 32.0}\n",
      "________________________________________________________________________________\n",
      "________________________________________________________________________________\n"
     ]
    },
    {
     "name": "stderr",
     "output_type": "stream",
     "text": [
      "2022-07-14 22:56:24.704762: I tensorflow/core/platform/cpu_feature_guard.cc:193] This TensorFlow binary is optimized with oneAPI Deep Neural Network Library (oneDNN) to use the following CPU instructions in performance-critical operations:  AVX2 FMA\n",
      "To enable them in other operations, rebuild TensorFlow with the appropriate compiler flags.\n",
      "2022-07-14 22:56:25.075729: I tensorflow/core/common_runtime/gpu/gpu_device.cc:1532] Created device /job:localhost/replica:0/task:0/device:GPU:0 with 21433 MB memory:  -> device: 0, name: GeForce RTX 3090, pci bus id: 0000:01:00.0, compute capability: 8.6\n",
      "2022-07-14 22:56:32.095566: I tensorflow/stream_executor/cuda/cuda_dnn.cc:384] Loaded cuDNN version 8100\n",
      "2022-07-14 22:56:34.414155: I tensorflow/stream_executor/cuda/cuda_blas.cc:1786] TensorFloat-32 will be used for the matrix multiplication. This will only be logged once.\n"
     ]
    },
    {
     "name": "stdout",
     "output_type": "stream",
     "text": [
      "start\n",
      "start\n",
      "epoch: 51 , loss: 0.693 , acc: 73.782 , val_loss: 0.693 , val_acc : 73.851\n",
      "{'A_hidden': 128.0, 'B_dropout': 0.5, 'C_dropout': 0.5, 'D_hidden': 64.0}\n",
      "________________________________________________________________________________\n",
      "________________________________________________________________________________\n"
     ]
    },
    {
     "name": "stderr",
     "output_type": "stream",
     "text": [
      "2022-07-14 23:13:25.032524: I tensorflow/core/platform/cpu_feature_guard.cc:193] This TensorFlow binary is optimized with oneAPI Deep Neural Network Library (oneDNN) to use the following CPU instructions in performance-critical operations:  AVX2 FMA\n",
      "To enable them in other operations, rebuild TensorFlow with the appropriate compiler flags.\n",
      "2022-07-14 23:13:25.419511: I tensorflow/core/common_runtime/gpu/gpu_device.cc:1532] Created device /job:localhost/replica:0/task:0/device:GPU:0 with 21433 MB memory:  -> device: 0, name: GeForce RTX 3090, pci bus id: 0000:01:00.0, compute capability: 8.6\n",
      "2022-07-14 23:13:32.473817: I tensorflow/stream_executor/cuda/cuda_dnn.cc:384] Loaded cuDNN version 8100\n",
      "2022-07-14 23:13:34.775654: I tensorflow/stream_executor/cuda/cuda_blas.cc:1786] TensorFloat-32 will be used for the matrix multiplication. This will only be logged once.\n"
     ]
    },
    {
     "name": "stdout",
     "output_type": "stream",
     "text": [
      "start\n",
      "start\n",
      "epoch: 51 , loss: 0.693 , acc: 40.258 , val_loss: 0.693 , val_acc : 26.149\n",
      "{'A_hidden': 256.0, 'B_dropout': 0.0, 'C_dropout': 0.0, 'D_hidden': 32.0}\n",
      "________________________________________________________________________________\n",
      "________________________________________________________________________________\n"
     ]
    },
    {
     "name": "stderr",
     "output_type": "stream",
     "text": [
      "2022-07-14 23:30:26.599055: I tensorflow/core/platform/cpu_feature_guard.cc:193] This TensorFlow binary is optimized with oneAPI Deep Neural Network Library (oneDNN) to use the following CPU instructions in performance-critical operations:  AVX2 FMA\n",
      "To enable them in other operations, rebuild TensorFlow with the appropriate compiler flags.\n",
      "2022-07-14 23:30:26.996292: I tensorflow/core/common_runtime/gpu/gpu_device.cc:1532] Created device /job:localhost/replica:0/task:0/device:GPU:0 with 21435 MB memory:  -> device: 0, name: GeForce RTX 3090, pci bus id: 0000:01:00.0, compute capability: 8.6\n",
      "2022-07-14 23:30:34.052572: I tensorflow/stream_executor/cuda/cuda_dnn.cc:384] Loaded cuDNN version 8100\n",
      "2022-07-14 23:30:36.368561: I tensorflow/stream_executor/cuda/cuda_blas.cc:1786] TensorFloat-32 will be used for the matrix multiplication. This will only be logged once.\n"
     ]
    },
    {
     "name": "stdout",
     "output_type": "stream",
     "text": [
      "start\n",
      "start\n",
      "epoch: 51 , loss: 4.208 , acc: 73.782 , val_loss: 3.951 , val_acc : 73.851\n",
      "{'A_hidden': 256.0, 'B_dropout': 0.0, 'C_dropout': 0.0, 'D_hidden': 64.0}\n",
      "________________________________________________________________________________\n",
      "________________________________________________________________________________\n"
     ]
    },
    {
     "name": "stderr",
     "output_type": "stream",
     "text": [
      "2022-07-14 23:47:28.172152: I tensorflow/core/platform/cpu_feature_guard.cc:193] This TensorFlow binary is optimized with oneAPI Deep Neural Network Library (oneDNN) to use the following CPU instructions in performance-critical operations:  AVX2 FMA\n",
      "To enable them in other operations, rebuild TensorFlow with the appropriate compiler flags.\n",
      "2022-07-14 23:47:28.533045: I tensorflow/core/common_runtime/gpu/gpu_device.cc:1532] Created device /job:localhost/replica:0/task:0/device:GPU:0 with 21433 MB memory:  -> device: 0, name: GeForce RTX 3090, pci bus id: 0000:01:00.0, compute capability: 8.6\n",
      "2022-07-14 23:47:35.583032: I tensorflow/stream_executor/cuda/cuda_dnn.cc:384] Loaded cuDNN version 8100\n",
      "2022-07-14 23:47:37.880370: I tensorflow/stream_executor/cuda/cuda_blas.cc:1786] TensorFloat-32 will be used for the matrix multiplication. This will only be logged once.\n"
     ]
    },
    {
     "name": "stdout",
     "output_type": "stream",
     "text": [
      "start\n",
      "start\n",
      "epoch: 51 , loss: 0.693 , acc: 27.507 , val_loss: 0.693 , val_acc : 26.149\n",
      "{'A_hidden': 256.0, 'B_dropout': 0.0, 'C_dropout': 0.0, 'D_hidden': 128.0}\n",
      "________________________________________________________________________________\n",
      "________________________________________________________________________________\n"
     ]
    },
    {
     "name": "stderr",
     "output_type": "stream",
     "text": [
      "2022-07-15 00:04:31.133465: I tensorflow/core/platform/cpu_feature_guard.cc:193] This TensorFlow binary is optimized with oneAPI Deep Neural Network Library (oneDNN) to use the following CPU instructions in performance-critical operations:  AVX2 FMA\n",
      "To enable them in other operations, rebuild TensorFlow with the appropriate compiler flags.\n",
      "2022-07-15 00:04:31.530846: I tensorflow/core/common_runtime/gpu/gpu_device.cc:1532] Created device /job:localhost/replica:0/task:0/device:GPU:0 with 21433 MB memory:  -> device: 0, name: GeForce RTX 3090, pci bus id: 0000:01:00.0, compute capability: 8.6\n",
      "2022-07-15 00:04:38.566616: I tensorflow/stream_executor/cuda/cuda_dnn.cc:384] Loaded cuDNN version 8100\n",
      "2022-07-15 00:04:40.866682: I tensorflow/stream_executor/cuda/cuda_blas.cc:1786] TensorFloat-32 will be used for the matrix multiplication. This will only be logged once.\n"
     ]
    }
   ],
   "source": [
    "for df_i in df.iterrows():\n",
    "    df_i = df_i[1]\n",
    "    df_i = dict(df_i)\n",
    "    print('_'* 80)\n",
    "    os.system(f'python train.py --layers \"{df_i}\"')\n",
    "    print(df_i)\n",
    "    print('_' * 80)"
   ]
  },
  {
   "cell_type": "code",
   "execution_count": null,
   "id": "890411eb",
   "metadata": {},
   "outputs": [],
   "source": []
  }
 ],
 "metadata": {
  "kernelspec": {
   "display_name": "Python 3 (ipykernel)",
   "language": "python",
   "name": "python3"
  },
  "language_info": {
   "codemirror_mode": {
    "name": "ipython",
    "version": 3
   },
   "file_extension": ".py",
   "mimetype": "text/x-python",
   "name": "python",
   "nbconvert_exporter": "python",
   "pygments_lexer": "ipython3",
   "version": "3.9.12"
  }
 },
 "nbformat": 4,
 "nbformat_minor": 5
}
