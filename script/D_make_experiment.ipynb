{
 "cells": [
  {
   "cell_type": "code",
   "execution_count": 1,
   "id": "9908c417",
   "metadata": {},
   "outputs": [],
   "source": [
    "import pandas as pd\n",
    "from sklearn.model_selection import ParameterGrid\n",
    "\n",
    "import tensorflow.keras as keras\n",
    "import tensorflow.keras.layers as layers\n",
    "\n",
    "A_hidden = [  256 , 512 , 1024]\n",
    "B_dropout = [ 0,3 ,  0.5]\n",
    "C_dropout = [ 0,3  , 0.5 ]\n",
    "D_hidden = [32 , 64 , 128 ,256 , 512]\n",
    "\n",
    "layers_df = pd.DataFrame((ParameterGrid({'A_hidden' : A_hidden , 'B_dropout' : B_dropout , \n",
    "                                          'D_hidden' : D_hidden , 'C_dropout' : C_dropout  })))\n",
    "layers_df = layers_df[layers_df['A_hidden'] > layers_df['D_hidden']]\n",
    "layers_df.reset_index(inplace = True)\n",
    "layers_df.drop('index' , axis = 1 , inplace = True)"
   ]
  },
  {
   "cell_type": "code",
   "execution_count": 2,
   "id": "5e5f8419",
   "metadata": {},
   "outputs": [],
   "source": [
    "layers_df.to_csv('../dataset/make_classifier.csv' ,  index = False)"
   ]
  },
  {
   "cell_type": "code",
   "execution_count": null,
   "id": "981ffefe",
   "metadata": {},
   "outputs": [],
   "source": []
  }
 ],
 "metadata": {
  "kernelspec": {
   "display_name": "Python 3 (ipykernel)",
   "language": "python",
   "name": "python3"
  },
  "language_info": {
   "codemirror_mode": {
    "name": "ipython",
    "version": 3
   },
   "file_extension": ".py",
   "mimetype": "text/x-python",
   "name": "python",
   "nbconvert_exporter": "python",
   "pygments_lexer": "ipython3",
   "version": "3.9.12"
  },
  "vscode": {
   "interpreter": {
    "hash": "a720ff50f79be6f659d53c55cd5e941ae6df0958152cb846493b4bee63fd4c83"
   }
  }
 },
 "nbformat": 4,
 "nbformat_minor": 5
}
