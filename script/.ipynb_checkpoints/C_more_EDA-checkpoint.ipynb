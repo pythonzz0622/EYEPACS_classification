{
 "cells": [
  {
   "cell_type": "code",
   "execution_count": 1,
   "id": "aba07195",
   "metadata": {},
   "outputs": [
    {
     "name": "stdout",
     "output_type": "stream",
     "text": [
      "\u001b[01;34m../\u001b[00m\n",
      "├── \u001b[01;34mdataset\u001b[00m\n",
      "│   ├── \u001b[01;34mIMAGES\u001b[00m\n",
      "│   ├── \u001b[01;34moriginal_zip_file\u001b[00m\n",
      "│   └── \u001b[01;34mtfrecord\u001b[00m\n",
      "└── \u001b[01;34mscript\u001b[00m\n",
      "    └── \u001b[01;34m__pycache__\u001b[00m\n",
      "\n",
      "6 directories\n",
      "data_label.csv\tIMAGES\tmessidor_data.csv  original_zip_file  tfrecord\n"
     ]
    },
    {
     "data": {
      "text/plain": [
       "692     20060411_58550_0200_PP.png\n",
       "1413                  IM002385.jpg\n",
       "1596                  IM003718.jpg\n",
       "1658                  IM004176.jpg\n",
       "Name: image_id, dtype: object"
      ]
     },
     "execution_count": 1,
     "metadata": {},
     "output_type": "execute_result"
    }
   ],
   "source": [
    "!tree -d ../\n",
    "\n",
    "!ls ../dataset/\n",
    "from ipywidgets import interact\n",
    "import os\n",
    "import numpy as np\n",
    "import pandas as pd\n",
    "import matplotlib.pyplot as plt\n",
    "import seaborn as sns\n",
    "import warnings\n",
    "import glob\n",
    "import cv2\n",
    "import tqdm\n",
    "from sklearn.model_selection import StratifiedKFold\n",
    "warnings.filterwarnings(action='ignore')\n",
    "\n",
    "data_info = pd.read_csv('../dataset/messidor_data.csv')\n",
    "\n",
    "data_info.tail()\n",
    "\n",
    "## null값 여부\n",
    "data_info.isnull().sum()\n",
    "\n",
    "data_info[data_info['adjudicated_dme'].isnull()]['image_id']"
   ]
  },
  {
   "cell_type": "code",
   "execution_count": 2,
   "id": "bd7f7b1c",
   "metadata": {},
   "outputs": [],
   "source": [
    "data_info = data_info[data_info['adjudicated_dr_grade'].notnull()]"
   ]
  },
  {
   "cell_type": "code",
   "execution_count": 3,
   "id": "fc77ef59",
   "metadata": {
    "scrolled": true
   },
   "outputs": [],
   "source": [
    "## data type 변환\n",
    "data_info['adjudicated_dme'] = data_info['adjudicated_dme'].astype('int')\n",
    "data_info['adjudicated_dr_grade'] = data_info['adjudicated_dr_grade'].astype('int')"
   ]
  },
  {
   "cell_type": "code",
   "execution_count": 4,
   "id": "55605fcf",
   "metadata": {},
   "outputs": [
    {
     "name": "stdout",
     "output_type": "stream",
     "text": [
      "<class 'pandas.core.frame.DataFrame'>\n",
      "Int64Index: 1744 entries, 0 to 1747\n",
      "Data columns (total 4 columns):\n",
      " #   Column                Non-Null Count  Dtype \n",
      "---  ------                --------------  ----- \n",
      " 0   image_id              1744 non-null   object\n",
      " 1   adjudicated_dr_grade  1744 non-null   int64 \n",
      " 2   adjudicated_dme       1744 non-null   int64 \n",
      " 3   adjudicated_gradable  1744 non-null   int64 \n",
      "dtypes: int64(3), object(1)\n",
      "memory usage: 68.1+ KB\n"
     ]
    }
   ],
   "source": [
    "data_info.info()"
   ]
  },
  {
   "cell_type": "code",
   "execution_count": 5,
   "id": "5ca306e1",
   "metadata": {},
   "outputs": [
    {
     "data": {
      "image/png": "[encoded data removed]",
      "text/plain": [
       "<Figure size 432x288 with 1 Axes>"
      ]
     },
     "metadata": {
      "needs_background": "light"
     },
     "output_type": "display_data"
    },
    {
     "name": "stdout",
     "output_type": "stream",
     "text": [
      "adjudicated_dr_grade\n",
      "0    1017\n",
      "1     270\n",
      "2     347\n",
      "3      75\n",
      "4      35\n",
      "Name: adjudicated_dr_grade, dtype: int64\n"
     ]
    }
   ],
   "source": [
    "column = 'adjudicated_dr_grade'\n",
    "sns.countplot(data_info[column])\n",
    "plt.title(column)\n",
    "plt.show()\n",
    "print(data_info[column].groupby(data_info[column]).count())"
   ]
  },
  {
   "cell_type": "code",
   "execution_count": 12,
   "id": "cbce6559",
   "metadata": {},
   "outputs": [],
   "source": [
    "def make_grid(i):\n",
    "    \n",
    "    grade_4 = data_info[data_info['adjudicated_dr_grade'] == i]\n",
    "    grade_4.reset_index(inplace = True)\n",
    "    grade_4.drop('index' , axis = 1 , inplace = True)\n",
    "\n",
    "    @interact(index=(0, len(grade_4)-1))\n",
    "    def show_sample(index = 0):\n",
    "        image_file = grade_4.iloc[index]['image_id']\n",
    "        image_path = os.path.join('../dataset/IMAGES/' , image_file)\n",
    "        image = cv2.imread(image_path)\n",
    "        image = cv2.cvtColor(image , cv2.COLOR_BGR2RGB)\n",
    "\n",
    "        plt.figure(figsize=(6,6))\n",
    "        plt.title(i)\n",
    "        plt.imshow(image)\n",
    "        plt.show()\n"
   ]
  },
  {
   "cell_type": "code",
   "execution_count": 13,
   "id": "983218ea",
   "metadata": {},
   "outputs": [
    {
     "data": {
      "application/vnd.jupyter.widget-view+json": {
       "model_id": "e3d7680a28d14a5593cfe202f7d21854",
       "version_major": 2,
       "version_minor": 0
      },
      "text/plain": [
       "interactive(children=(IntSlider(value=0, description='index', max=1016), Output()), _dom_classes=('widget-inte…"
      ]
     },
     "metadata": {},
     "output_type": "display_data"
    },
    {
     "data": {
      "application/vnd.jupyter.widget-view+json": {
       "model_id": "a6f4edd5abc74cc28f8273a9aeb02c3c",
       "version_major": 2,
       "version_minor": 0
      },
      "text/plain": [
       "interactive(children=(IntSlider(value=0, description='index', max=269), Output()), _dom_classes=('widget-inter…"
      ]
     },
     "metadata": {},
     "output_type": "display_data"
    },
    {
     "data": {
      "application/vnd.jupyter.widget-view+json": {
       "model_id": "ef49d54f6d6040f495deb033016b7b8f",
       "version_major": 2,
       "version_minor": 0
      },
      "text/plain": [
       "interactive(children=(IntSlider(value=0, description='index', max=346), Output()), _dom_classes=('widget-inter…"
      ]
     },
     "metadata": {},
     "output_type": "display_data"
    },
    {
     "data": {
      "application/vnd.jupyter.widget-view+json": {
       "model_id": "144eff5eedb548d19d492aee45f48f7d",
       "version_major": 2,
       "version_minor": 0
      },
      "text/plain": [
       "interactive(children=(IntSlider(value=0, description='index', max=74), Output()), _dom_classes=('widget-intera…"
      ]
     },
     "metadata": {},
     "output_type": "display_data"
    },
    {
     "data": {
      "application/vnd.jupyter.widget-view+json": {
       "model_id": "4dd34385e5654bf398df71bc14989e8f",
       "version_major": 2,
       "version_minor": 0
      },
      "text/plain": [
       "interactive(children=(IntSlider(value=0, description='index', max=34), Output()), _dom_classes=('widget-intera…"
      ]
     },
     "metadata": {},
     "output_type": "display_data"
    }
   ],
   "source": [
    "for i in range(5):\n",
    "    make_grid(i)"
   ]
  },
  {
   "cell_type": "code",
   "execution_count": 49,
   "id": "f39b2e18",
   "metadata": {},
   "outputs": [
    {
     "data": {
      "image/png": "[encoded data removed]",
      "text/plain": [
       "<Figure size 432x288 with 1 Axes>"
      ]
     },
     "metadata": {
      "needs_background": "light"
     },
     "output_type": "display_data"
    }
   ],
   "source": [
    "image_gray = cv2.imread('../dataset/IMAGES/20051216_45226_0200_PP.png', cv2.IMREAD_GRAYSCALE)\n",
    "aug_img = cv2.threshold(image_gray, -1, 255, cv2.THRESH_BINARY_INV|cv2.THRESH_OTSU)\n",
    "test_img = aug_img[1]\n",
    "plt.imshow(test_img)\n",
    "plt.show()"
   ]
  },
  {
   "cell_type": "code",
   "execution_count": 50,
   "id": "10b1bcd1",
   "metadata": {},
   "outputs": [
    {
     "data": {
      "text/plain": [
       "(960, 1440)"
      ]
     },
     "execution_count": 50,
     "metadata": {},
     "output_type": "execute_result"
    }
   ],
   "source": [
    "test_img.shape"
   ]
  },
  {
   "cell_type": "code",
   "execution_count": 51,
   "id": "2c6e8f28",
   "metadata": {},
   "outputs": [],
   "source": [
    "CenterX = test_img.shape[1] // 2\n",
    "CenterY = test_img.shape[0] // 2\n",
    "\n",
    "X = test_img[CenterY , :]\n",
    "Y = test_img[: , CenterX]\n",
    "\n",
    "X_count, Y_count = (X == 0).sum() ,(Y == 0).sum()"
   ]
  },
  {
   "cell_type": "code",
   "execution_count": 52,
   "id": "721c4f96",
   "metadata": {},
   "outputs": [
    {
     "data": {
      "image/png": "[encoded data removed]",
      "text/plain": [
       "<Figure size 432x288 with 1 Axes>"
      ]
     },
     "metadata": {
      "needs_background": "light"
     },
     "output_type": "display_data"
    }
   ],
   "source": [
    "for idx_X , i in enumerate(X):\n",
    "    if i != 255:\n",
    "        break\n",
    "        \n",
    "for idx_Y , i in enumerate(Y):\n",
    "    if i != 255:\n",
    "        break\n",
    "\n",
    "test_last_img = test_img[idx_Y: (idx_Y + Y_count), idx_X : (idx_X + X_count)]\n",
    "plt.imshow(test_last_img)\n",
    "plt.show()"
   ]
  },
  {
   "cell_type": "code",
   "execution_count": null,
   "id": "e1bd1f84",
   "metadata": {},
   "outputs": [],
   "source": []
  },
  {
   "cell_type": "code",
   "execution_count": null,
   "id": "dff43fe2",
   "metadata": {},
   "outputs": [],
   "source": []
  }
 ],
 "metadata": {
  "kernelspec": {
   "display_name": "Python 3 (ipykernel)",
   "language": "python",
   "name": "python3"
  },
  "language_info": {
   "codemirror_mode": {
    "name": "ipython",
    "version": 3
   },
   "file_extension": ".py",
   "mimetype": "text/x-python",
   "name": "python",
   "nbconvert_exporter": "python",
   "pygments_lexer": "ipython3",
   "version": "3.9.12"
  }
 },
 "nbformat": 4,
 "nbformat_minor": 5
}
